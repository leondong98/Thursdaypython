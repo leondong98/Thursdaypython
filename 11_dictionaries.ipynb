{
 "cells": [
  {
   "attachments": {},
   "cell_type": "markdown",
   "metadata": {},
   "source": [
    "# Dictionaries"
   ]
  },
  {
   "cell_type": "code",
   "execution_count": 14,
   "metadata": {},
   "outputs": [],
   "source": [
    "me = {\"name\": \"David\", \"age\": 40, \"jobs\": ['programmer', 'instructor']}"
   ]
  },
  {
   "cell_type": "code",
   "execution_count": 15,
   "metadata": {},
   "outputs": [
    {
     "name": "stdout",
     "output_type": "stream",
     "text": [
      "{'name': 'David', 'age': 40, 'jobs': ['programmer', 'instructor']}\n"
     ]
    }
   ],
   "source": [
    "print(me)"
   ]
  },
  {
   "cell_type": "code",
   "execution_count": 16,
   "metadata": {},
   "outputs": [
    {
     "name": "stdout",
     "output_type": "stream",
     "text": [
      "40\n"
     ]
    }
   ],
   "source": [
    "print(me['age'])"
   ]
  },
  {
   "cell_type": "code",
   "execution_count": 17,
   "metadata": {},
   "outputs": [
    {
     "name": "stdout",
     "output_type": "stream",
     "text": [
      "['programmer', 'instructor']\n"
     ]
    }
   ],
   "source": [
    "print(me['jobs'])"
   ]
  },
  {
   "cell_type": "code",
   "execution_count": 18,
   "metadata": {},
   "outputs": [
    {
     "name": "stdout",
     "output_type": "stream",
     "text": [
      "programmer\n"
     ]
    }
   ],
   "source": [
    "print(me['jobs'][0])"
   ]
  },
  {
   "cell_type": "code",
   "execution_count": 20,
   "metadata": {},
   "outputs": [
    {
     "data": {
      "text/plain": [
       "dict_keys(['name', 'age', 'jobs'])"
      ]
     },
     "execution_count": 20,
     "metadata": {},
     "output_type": "execute_result"
    }
   ],
   "source": [
    "me.keys()"
   ]
  },
  {
   "cell_type": "code",
   "execution_count": 21,
   "metadata": {},
   "outputs": [
    {
     "data": {
      "text/plain": [
       "dict_values(['David', 40, ['programmer', 'instructor']])"
      ]
     },
     "execution_count": 21,
     "metadata": {},
     "output_type": "execute_result"
    }
   ],
   "source": [
    "me.values()"
   ]
  },
  {
   "cell_type": "code",
   "execution_count": 22,
   "metadata": {},
   "outputs": [
    {
     "data": {
      "text/plain": [
       "True"
      ]
     },
     "execution_count": 22,
     "metadata": {},
     "output_type": "execute_result"
    }
   ],
   "source": [
    "'jobs' in me"
   ]
  },
  {
   "cell_type": "code",
   "execution_count": 23,
   "metadata": {},
   "outputs": [
    {
     "data": {
      "text/plain": [
       "False"
      ]
     },
     "execution_count": 23,
     "metadata": {},
     "output_type": "execute_result"
    }
   ],
   "source": [
    "'David' in me"
   ]
  },
  {
   "cell_type": "code",
   "execution_count": 24,
   "metadata": {},
   "outputs": [
    {
     "data": {
      "text/plain": [
       "True"
      ]
     },
     "execution_count": 24,
     "metadata": {},
     "output_type": "execute_result"
    }
   ],
   "source": [
    "'David' in me.values()"
   ]
  },
  {
   "cell_type": "code",
   "execution_count": 26,
   "metadata": {},
   "outputs": [
    {
     "name": "stdout",
     "output_type": "stream",
     "text": [
      "name David\n",
      "age 40\n",
      "jobs ['programmer', 'instructor']\n"
     ]
    }
   ],
   "source": [
    "for key in me:\n",
    "    print(key, me[key]) #one way to print the dictionary"
   ]
  },
  {
   "cell_type": "code",
   "execution_count": 28,
   "metadata": {},
   "outputs": [
    {
     "name": "stdout",
     "output_type": "stream",
     "text": [
      "name David\n",
      "age 40\n",
      "jobs ['programmer', 'instructor']\n"
     ]
    }
   ],
   "source": [
    "#Another way to do that\n",
    "for key, value in me.items():\n",
    "    print(key,value)"
   ]
  },
  {
   "cell_type": "code",
   "execution_count": 33,
   "metadata": {},
   "outputs": [
    {
     "data": {
      "text/plain": [
       "{'a', 'b', 'c', 'e'}"
      ]
     },
     "execution_count": 33,
     "metadata": {},
     "output_type": "execute_result"
    }
   ],
   "source": [
    "set(('a', 'b', 'c', 'a', 'e', 'b','c')) #set will present number of unique values in the dictionary\n"
   ]
  },
  {
   "cell_type": "code",
   "execution_count": 35,
   "metadata": {},
   "outputs": [
    {
     "name": "stdout",
     "output_type": "stream",
     "text": [
      "Sam birthday is in April\n",
      "Jim birthday is in Jun\n",
      "Tom birthday is in Jan\n"
     ]
    }
   ],
   "source": [
    "friends ={'Sam' : 'April',\n",
    "          'Jim' : 'Jun',\n",
    "          'Tom' : 'Jan'}\n",
    "for friend in friends:\n",
    "    print(friend, 'birthday is in', friends[friend])\n"
   ]
  },
  {
   "cell_type": "code",
   "execution_count": 36,
   "metadata": {},
   "outputs": [
    {
     "name": "stdout",
     "output_type": "stream",
     "text": [
      "April ....\n",
      "Jun ....\n",
      "Jan ....\n"
     ]
    }
   ],
   "source": [
    "for key in friends:\n",
    "    print(friends[key], '....')"
   ]
  },
  {
   "cell_type": "code",
   "execution_count": 37,
   "metadata": {},
   "outputs": [
    {
     "name": "stdout",
     "output_type": "stream",
     "text": [
      "[{'City': 'London', 'Street': 'Gower st', 'Postcode': 'WC1E 6BT'}, {'City': 'London', 'Street': 'Waterson st', 'Postcode': 'E2 8HH'}]\n"
     ]
    }
   ],
   "source": [
    "UCL = {'City': 'London',\n",
    "       'Street' : 'Gower st',\n",
    "       'Postcode': 'WC1E 6BT'}\n",
    "JimHouse = {'City': 'London',\n",
    "       'Street' : 'Waterson st',\n",
    "       'Postcode': 'E2 8HH'}\n",
    "address = [UCL, JimHouse]\n",
    "\n",
    "print(address)"
   ]
  },
  {
   "cell_type": "code",
   "execution_count": 39,
   "metadata": {},
   "outputs": [
    {
     "data": {
      "text/plain": [
       "'Gower st'"
      ]
     },
     "execution_count": 39,
     "metadata": {},
     "output_type": "execute_result"
    }
   ],
   "source": [
    "address[0]['Street']"
   ]
  },
  {
   "cell_type": "code",
   "execution_count": 45,
   "metadata": {},
   "outputs": [
    {
     "name": "stdout",
     "output_type": "stream",
     "text": [
      "[{'City': 'London', 'Street': 'Gower st', 'Postcode': 'WC1E 6BT', 'people': ['Sam', 'David', 'Cris'], 'People': ['Sam', 'David', 'Cris']}, {'City': 'London', 'Street': 'Waterson st', 'Postcode': 'E2 8HH', 'People': ['Jim', 'Matt']}]\n"
     ]
    }
   ],
   "source": [
    "UCL['People'] = ['Sam', 'David', 'Cris']\n",
    "JimHouse['People'] = ['Jim', 'Matt']\n",
    "print(address)"
   ]
  },
  {
   "cell_type": "code",
   "execution_count": 46,
   "metadata": {},
   "outputs": [
    {
     "name": "stdout",
     "output_type": "stream",
     "text": [
      "['Sam', 'Jim']\n"
     ]
    }
   ],
   "source": [
    "leaders = [ place['People'][0] for place in address]\n",
    "print(leaders)"
   ]
  },
  {
   "cell_type": "code",
   "execution_count": 47,
   "metadata": {},
   "outputs": [
    {
     "name": "stdout",
     "output_type": "stream",
     "text": [
      "['Sam', 'Jim']\n"
     ]
    }
   ],
   "source": [
    "#another way\n",
    "leaders = []\n",
    "for place in address:\n",
    "    leaders = leaders + [place['People'][0]]\n",
    "print(leaders)"
   ]
  },
  {
   "cell_type": "code",
   "execution_count": 48,
   "metadata": {},
   "outputs": [
    {
     "data": {
      "text/plain": [
       "0"
      ]
     },
     "execution_count": 48,
     "metadata": {},
     "output_type": "execute_result"
    }
   ],
   "source": [
    "cities = [\n",
    "    {\"name\": \"London\", \"capacity\": 8, \"residents\": [\"Me\", \"Sue\"]},\n",
    "    {\"name\": \"Edinburgh\", \"capacity\": 1, \"residents\": [\"Dave\"]},\n",
    "    {\"name\": \"Cardiff\", \"capacity\": 1, \"residents\": []},\n",
    "]\n",
    "len(cities[2][\"residents\"])"
   ]
  },
  {
   "attachments": {},
   "cell_type": "markdown",
   "metadata": {},
   "source": [
    "# Maze"
   ]
  },
  {
   "cell_type": "code",
   "execution_count": 102,
   "metadata": {},
   "outputs": [
    {
     "name": "stdout",
     "output_type": "stream",
     "text": [
      "{'living room': {'people': ['James'], 'capacity': 2, 'directions': {'outside': 'garden', 'upstairs': 'bedroom', 'north': 'kitchen'}}, 'kitchen': {'people': [], 'capacity': 1, 'directions': {'south': 'living room'}}, 'bedroom': {'people': [], 'capacity': 2, 'directions': {'jump': 'garden', 'downstars': 'living room'}}, 'garden': {'people': ['Sue'], 'capacity': 3, 'directions': {'inside': 'living room'}}}\n"
     ]
    }
   ],
   "source": [
    "room1 = {\"people\": [\"James\"],\n",
    "         \"capacity\" : 2,\n",
    "         \"directions\": {\n",
    "             \"outside\" : \"garden\",\n",
    "             \"upstairs\" : \"bedroom\",\n",
    "             \"north\" : \"kitchen\"    \n",
    "         }}\n",
    "\n",
    "room2 = {\"people\": [],\n",
    "         \"capacity\" : 1,\n",
    "         \"directions\": {\n",
    "             \"south\" : \"living room\",  \n",
    "         }}\n",
    "\n",
    "room3 = {\"people\": [],\n",
    "         \"capacity\" : 2,\n",
    "         \"directions\": {\n",
    "             \"jump\" : \"garden\",\n",
    "             \"downstars\" : \"living room\",  \n",
    "         }}\n",
    "\n",
    "room4 = {\"people\": [\"Sue\"],\n",
    "         \"capacity\" : 3,\n",
    "         \"directions\": {\n",
    "             \"inside\" : \"living room\",  \n",
    "         }}\n",
    "\n",
    "maze = {\"living room\": room1,\n",
    "        \"kitchen\": room2,\n",
    "        \"bedroom\": room3,\n",
    "        \"garden\": room4}\n",
    "        \n",
    "print(maze)"
   ]
  },
  {
   "cell_type": "code",
   "execution_count": null,
   "metadata": {},
   "outputs": [],
   "source": [
    "def capacity():\n",
    "    for i in maze:\n",
    "        if len(maze[i][\"people\"] == maze[i][\"capacity\"]):\n",
    "            #carry out movement\n",
    "        elif "
   ]
  },
  {
   "cell_type": "code",
   "execution_count": 114,
   "metadata": {},
   "outputs": [
    {
     "name": "stdout",
     "output_type": "stream",
     "text": [
      "From the {'kitchen', 'bedroom', 'living room', 'garden'} we can go the ['living room']\n"
     ]
    }
   ],
   "source": [
    "print(\"From the\",maze,\"we can go the\",list(maze[\"kitchen\"][\"directions\"].values()))"
   ]
  },
  {
   "cell_type": "code",
   "execution_count": null,
   "metadata": {},
   "outputs": [],
   "source": []
  },
  {
   "attachments": {},
   "cell_type": "markdown",
   "metadata": {},
   "source": []
  }
 ],
 "metadata": {
  "kernelspec": {
   "display_name": "Python 3",
   "language": "python",
   "name": "python3"
  },
  "language_info": {
   "codemirror_mode": {
    "name": "ipython",
    "version": 3
   },
   "file_extension": ".py",
   "mimetype": "text/x-python",
   "name": "python",
   "nbconvert_exporter": "python",
   "pygments_lexer": "ipython3",
   "version": "3.9.7"
  },
  "orig_nbformat": 4
 },
 "nbformat": 4,
 "nbformat_minor": 2
}
