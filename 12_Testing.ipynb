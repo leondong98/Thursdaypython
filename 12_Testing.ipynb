{
 "cells": [
  {
   "attachments": {},
   "cell_type": "markdown",
   "metadata": {},
   "source": [
    "# Testing"
   ]
  },
  {
   "cell_type": "code",
   "execution_count": 16,
   "metadata": {},
   "outputs": [],
   "source": [
    "# 将矩形进行归一化操作。归一化后的矩形会位于原点，并且在其最长轴上的长度为 1.0。\n",
    "\n",
    "def normalize_rectangle(rect):\n",
    "    \"\"\"Normalizes a rectangle so that it is at the origin and 1.0 units long on its longest axis.\n",
    "    Input should be of the format (x0, y0, x1, y1).\n",
    "    (x0, y0) and (x1, y1) define the lower left and upper right corners\n",
    "    of the rectangle, respectively.\"\"\"\n",
    "    #归一化一个矩形，使其位于原点，长轴上有1.0个单位。输入的格式应该是（x0, y0, x1, y1）。 \n",
    "    #(x0, y0) 和 (x1, y1) 分别定义矩形的左下角和右上角。分别定义了矩形的左下角和右上角\"\"。\n",
    "    assert len(rect) == 4, \"Rectangles must contain four coordinates\"\n",
    "    x0, y0, x1, y1 = rect\n",
    "\n",
    "    #一般默认x1>x0, y1>y0\n",
    "    assert x1 > x0, \"invalid x coordinates\"\n",
    "    assert y1 > y0, \"invalid y coordinates\"\n",
    "\n",
    "    #计算矩形宽度和高度\n",
    "    dx = x1 - x0 \n",
    "    dy = y1 - y0 \n",
    "\n",
    "    #通过比较宽度和高度的大小，确定哪个轴是最长轴。\n",
    "    #如果宽度 dx 大于高度 dy，则最长轴为水平轴，进行水平方向的缩放；否则，最长轴为垂直轴，进行垂直方向的缩放\n",
    "\n",
    "    #在进行缩放时，计算缩放比例 scaled，然后根据最长轴确定矩形的上界坐标 (upper_x, upper_y)。\n",
    "    #如果最长轴为水平轴，上界坐标为 (1.0, scaled)，如果最长轴为垂直轴，上界坐标为 (scaled, 1.0)。\n",
    "    if dx > dy:\n",
    "        scaled = dy / dx\n",
    "        upper_x, upper_y = 1.0, scaled\n",
    "    else:\n",
    "        scaled = dx / dy\n",
    "        upper_x, upper_y = scaled, 1.0\n",
    "\n",
    "    #计算得到的标准化后的矩形的上界坐标 upper_x 和 upper_y 是否在有效范围内   \n",
    "    assert 0 < upper_x <= 1.0, \"Calculated upper x coordinate invalid\"\n",
    "    assert 0 < upper_y <= 1.0, \"Calculated upper y coordiante invalid\"    \n",
    "\n",
    "    return (0, 0, upper_x, upper_y)"
   ]
  },
  {
   "cell_type": "code",
   "execution_count": 17,
   "metadata": {},
   "outputs": [
    {
     "data": {
      "text/plain": [
       "(0, 0, 0.6666666666666666, 1.0)"
      ]
     },
     "execution_count": 17,
     "metadata": {},
     "output_type": "execute_result"
    }
   ],
   "source": [
    "normalize_rectangle((3,3,5,6))  #依次是X0,y0,x1,y1"
   ]
  },
  {
   "cell_type": "code",
   "execution_count": 20,
   "metadata": {},
   "outputs": [],
   "source": [
    "assert normalize_rectangle((2.5, 2.5, 10, 10)) == (0., 0., 1., 1.)"
   ]
  },
  {
   "cell_type": "code",
   "execution_count": 29,
   "metadata": {},
   "outputs": [],
   "source": [
    "assert normalize_rectangle((-1, -1, 1, 1)) == (0, 0, 1, 1)"
   ]
  },
  {
   "cell_type": "code",
   "execution_count": 31,
   "metadata": {},
   "outputs": [],
   "source": [
    "assert normalize_rectangle((-20, -18, -19, -17.5)) == (0, 0, 1, 0.5)"
   ]
  },
  {
   "attachments": {},
   "cell_type": "markdown",
   "metadata": {},
   "source": [
    "## Exercise"
   ]
  },
  {
   "cell_type": "code",
   "execution_count": 59,
   "metadata": {},
   "outputs": [],
   "source": [
    "def range_overlap(ranges):\n",
    "    ..."
   ]
  },
  {
   "cell_type": "code",
   "execution_count": 53,
   "metadata": {},
   "outputs": [
    {
     "data": {
      "text/plain": [
       "False"
      ]
     },
     "execution_count": 53,
     "metadata": {},
     "output_type": "execute_result"
    }
   ],
   "source": [
    "range_overlap([(-3, 5), (0, 4.5), (-1.5, 2)]) == (0, 2)"
   ]
  },
  {
   "cell_type": "code",
   "execution_count": 66,
   "metadata": {},
   "outputs": [
    {
     "data": {
      "text/plain": [
       "False"
      ]
     },
     "execution_count": 66,
     "metadata": {},
     "output_type": "execute_result"
    }
   ],
   "source": [
    "range_overlap([(-10, 10), (-0.1, -2.1), (-100, -100), (-0.01, -2.01)]) == (0, 2)"
   ]
  },
  {
   "cell_type": "code",
   "execution_count": null,
   "metadata": {},
   "outputs": [],
   "source": []
  }
 ],
 "metadata": {
  "kernelspec": {
   "display_name": "Python 3",
   "language": "python",
   "name": "python3"
  },
  "language_info": {
   "codemirror_mode": {
    "name": "ipython",
    "version": 3
   },
   "file_extension": ".py",
   "mimetype": "text/x-python",
   "name": "python",
   "nbconvert_exporter": "python",
   "pygments_lexer": "ipython3",
   "version": "3.9.7"
  },
  "orig_nbformat": 4
 },
 "nbformat": 4,
 "nbformat_minor": 2
}
